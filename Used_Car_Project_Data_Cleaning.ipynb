{
  "nbformat": 4,
  "nbformat_minor": 0,
  "metadata": {
    "colab": {
      "name": "Used Car Project-Data Cleaning.ipynb",
      "version": "0.3.2",
      "views": {},
      "default_view": {},
      "provenance": []
    },
    "kernelspec": {
      "name": "python3",
      "display_name": "Python 3"
    }
  },
  "cells": [
    {
      "metadata": {
        "id": "2OpuNWgR3cXx",
        "colab_type": "code",
        "colab": {
          "autoexec": {
            "startup": false,
            "wait_interval": 0
          }
        }
      },
      "cell_type": "code",
      "source": [
        "import pandas as pd\n",
        "import numpy as np\n",
        "import io\n",
        "\n",
        "# import data\n",
        "from google.colab import files\n",
        "\n",
        "uploaded = files.upload()\n",
        "\n",
        "for fn in uploaded.keys():\n",
        "  print('User uploaded file \"{name}\" with length {length} bytes'.format(\n",
        "      name=fn, length=len(uploaded[fn])))\n",
        "\n",
        "my_data = pd.read_csv(io.StringIO(uploaded['raw.csv'].decode('latin-1')))\n",
        "my_data.shape\n",
        "my_data=my_data.drop_duplicates()\n",
        "my_data.shape\n",
        "my_data.head()\n",
        "\n",
        "# Extract year, brand, model from title\n",
        "my_data['Year']=my_data['title'].str.split().str[0]\n",
        "my_data['Brand']=my_data['title'].str.split().str[1]\n",
        "my_data['Model']=my_data['title'].str.split('-').str[0].str[18:]\n",
        "my_data['preprice']=my_data['title'].str.split('$').str[1]\n",
        "\n",
        "my_data['Class']='3-Series'\n",
        "\n",
        "my_data.head(5)\n",
        "my_data.tail(50)\n",
        "\n",
        "# Fill in price\n",
        "my_data.price.fillna(my_data.preprice, inplace=True)\n",
        "my_data=my_data.drop(columns=['preprice','title'])\n",
        "my_data.head(5)\n",
        "my_data.tail(50)\n",
        "my_data['Price']=my_data['price'].str.replace(\"$\",\"\")\n",
        "my_data.head(50)\n",
        "my_data.shape\n",
        "\n",
        "# Clean location\n",
        "my_data['Location']=my_data['Location'].str.split('\\n').str[0]\n",
        "my_data['Location']=my_data['Location'].str.split(',').str[1]\n",
        "my_data.tail(5)\n",
        "my_data.head(5)\n",
        "\n",
        "# Clean Accident, owner, mileage\n",
        "my_data['Mileage']=my_data['Mileage'].str.split().str[0]\n",
        "my_data['Accident']=my_data['Accident'].str.split().str[0].replace('No',0)\n",
        "my_data['Owner']=my_data['Owner'].str.split().str[0].replace('No',0)\n",
        "my_data.head(5)\n",
        "my_data.tail(50)\n",
        "\n",
        "# Clean MPG\n",
        "my_data['City_MPG']=my_data['MPG'].str.split('\\n').str[0].str.split().str[0]\n",
        "my_data['Highway_MPG']=my_data['MPG'].str.split('\\n').str[1].str.split().str[0]\n",
        "my_data=my_data.drop('MPG',1)\n",
        "my_data.tail(50)\n",
        "\n",
        "# rearrange columns\n",
        "cols = [\"Brand\",\"Class\",\"Model\",\"Year\",\"Color\",\"Engine\" , \"Location\", \"Mileage\", \"Price\",\"Owner\",\"Accident\",\"Dealer\",\"City_MPG\",\"Highway_MPG\"]\n",
        "data = my_data[cols]\n",
        "data.head(5)\n",
        "data.shape\n",
        "\n",
        "# Change datatypes\n",
        "#dataset['Price'].astype(str).astype(int)\n",
        "#dataset['Mileage'].astype(str).astype(int)\n",
        "#dataset.dtypes\n",
        "\n",
        "my_data.to_csv('clean.csv')\n",
        "files.download('clean.csv')\n"
      ],
      "execution_count": 0,
      "outputs": []
    }
  ]
}